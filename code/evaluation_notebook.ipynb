{
 "cells": [
  {
   "cell_type": "markdown",
   "metadata": {},
   "source": [
    "# Evaluation Notebook\n",
    "A playground notebook for exploration and evaluation of the IEMA operational data. Not directly used in research."
   ]
  },
  {
   "cell_type": "code",
   "execution_count": null,
   "metadata": {},
   "outputs": [],
   "source": [
    "import numpy as np\n",
    "import config as cfg\n",
    "import pickle\n",
    "import pandas as pd\n",
    "import os\n",
    "import networkx as nx\n",
    "import matplotlib.pyplot as plt"
   ]
  },
  {
   "cell_type": "markdown",
   "metadata": {},
   "source": [
    "## Load data"
   ]
  },
  {
   "cell_type": "code",
   "execution_count": null,
   "metadata": {},
   "outputs": [],
   "source": [
    "record_timestamp = \"20241105_082609\"\n",
    "\n",
    "record_timestamp"
   ]
  },
  {
   "cell_type": "code",
   "execution_count": null,
   "metadata": {},
   "outputs": [],
   "source": [
    "with open(\"precomputed/features.pkl\", \"rb\") as f:\n",
    "    df_features = pickle.load(f)\n",
    "nd_features = df_features.values\n",
    "\n",
    "nd_features.shape"
   ]
  },
  {
   "cell_type": "code",
   "execution_count": null,
   "metadata": {},
   "outputs": [],
   "source": [
    "with open(\n",
    "    f\"output/{record_timestamp}/{record_timestamp}_analysis_population.pkl\",\n",
    "    \"rb\",\n",
    ") as f:\n",
    "    df_iterations = pickle.load(f)\n",
    "\n",
    "df_iterations"
   ]
  },
  {
   "cell_type": "markdown",
   "metadata": {},
   "source": [
    "## Functional Variance (Population Diversity)"
   ]
  },
  {
   "cell_type": "code",
   "execution_count": null,
   "metadata": {},
   "outputs": [],
   "source": [
    "all_pops_cat = []\n",
    "for pop in df_iterations[\"pop\"].unique():\n",
    "    df_gen = df_iterations.loc[\n",
    "        df_iterations[\"pop\"] == pop, [\"p1\", \"p2\", \"p3\", \"p4\", \"p5\", \"p6\"]\n",
    "    ]\n",
    "\n",
    "    var = df_gen.var(axis=0)\n",
    "    all_pops_cat.append(np.mean(var))\n",
    "\n",
    "np.array(all_pops_cat).shape"
   ]
  },
  {
   "cell_type": "code",
   "execution_count": null,
   "metadata": {},
   "outputs": [],
   "source": [
    "# plot variance\n",
    "plt.plot(all_pops_cat)\n",
    "plt.xlabel(\"Population\")\n",
    "plt.ylabel(\"Variance\")\n",
    "plt.title(\"Variance of each population\")\n",
    "plt.ylim(0, 0.2)\n",
    "plt.savefig(f\"output/{record_timestamp}/population_diversity.png\")\n",
    "plt.show()"
   ]
  },
  {
   "cell_type": "markdown",
   "metadata": {},
   "source": [
    "## Categorical Diversity"
   ]
  },
  {
   "cell_type": "code",
   "execution_count": null,
   "metadata": {},
   "outputs": [],
   "source": [
    "with open(\"precomputed/filenames.pkl\", \"rb\") as f:\n",
    "    df_filenames = pickle.load(f)\n",
    "df_filenames.filename = df_filenames.filename.apply(os.path.splitext).str[0]\n",
    "\n",
    "df_filenames.head()"
   ]
  },
  {
   "cell_type": "code",
   "execution_count": null,
   "metadata": {},
   "outputs": [],
   "source": [
    "# Load the metadata file\n",
    "\n",
    "df_metacoll = pd.read_csv(cfg.FSD50K_METADATA_COLLECTION_PATH)\n",
    "df_metacoll.mids = df_metacoll.mids.str.split(\",\")\n",
    "df_metacoll.fname = df_metacoll.fname.astype(str)\n",
    "\n",
    "df_metacoll.head()"
   ]
  },
  {
   "cell_type": "code",
   "execution_count": null,
   "metadata": {},
   "outputs": [],
   "source": [
    "df_iter_w_filename = df_iterations.merge(\n",
    "    df_filenames, on=\"sample_id\", how=\"left\"\n",
    ")\n",
    "df_iter_w_filename.filename = df_iter_w_filename.filename.astype(str)\n",
    "\n",
    "df_iter_w_filename.head()"
   ]
  },
  {
   "cell_type": "code",
   "execution_count": null,
   "metadata": {},
   "outputs": [],
   "source": [
    "df_ontology_lookup = df_iter_w_filename.merge(\n",
    "    df_metacoll, left_on=\"filename\", right_on=\"fname\", how=\"left\"\n",
    ")\n",
    "df_ontology_lookup[\"mids_first\"] = df_ontology_lookup.mids.str[0]\n",
    "\n",
    "df_ontology_lookup.head()"
   ]
  },
  {
   "cell_type": "code",
   "execution_count": null,
   "metadata": {},
   "outputs": [],
   "source": [
    "all_pops_cat = []\n",
    "for pop in df_ontology_lookup[\"pop\"].unique():\n",
    "    cats = df_ontology_lookup.loc[\n",
    "        df_ontology_lookup[\"pop\"] == pop, \"mids_first\"\n",
    "    ]\n",
    "    all_pops_cat.append(len(set(cats)) / len(cats))\n",
    "\n",
    "np.array(all_pops_cat).shape"
   ]
  },
  {
   "cell_type": "code",
   "execution_count": null,
   "metadata": {},
   "outputs": [],
   "source": [
    "# plot\n",
    "\n",
    "plt.clf()\n",
    "plt.plot(all_pops_cat)\n",
    "plt.xlabel(\"Population\")\n",
    "plt.ylabel(\"Mean Category Diversity\")\n",
    "plt.title(\"Mean category diversity for each population\")\n",
    "plt.ylim(0, 1)\n",
    "plt.savefig(f\"output/{record_timestamp}/category_diversity.png\")\n",
    "plt.show()"
   ]
  },
  {
   "cell_type": "markdown",
   "metadata": {},
   "source": [
    "## Coverage of Dataset Categories/Samples"
   ]
  },
  {
   "cell_type": "code",
   "execution_count": null,
   "metadata": {},
   "outputs": [],
   "source": [
    "df_ontology_lookup.fname.unique().shape[0], df_metacoll.fname.astype(\n",
    "    str\n",
    ").unique().shape[0]"
   ]
  },
  {
   "cell_type": "code",
   "execution_count": null,
   "metadata": {},
   "outputs": [],
   "source": [
    "df_ontology_lookup.fname.unique().shape[0] / df_metacoll.fname.astype(\n",
    "    str\n",
    ").unique().shape[0] * 100, \"percent\""
   ]
  },
  {
   "cell_type": "markdown",
   "metadata": {},
   "source": [
    "## Phylogenetic\n",
    "Graph operations"
   ]
  },
  {
   "cell_type": "code",
   "execution_count": null,
   "metadata": {},
   "outputs": [],
   "source": [
    "# load the graph to nx\n",
    "\n",
    "with open(\n",
    "    f\"output/{record_timestamp}/{record_timestamp}_analysis_evo_graph.gpickle\",\n",
    "    \"rb\",\n",
    ") as f:\n",
    "    G = pickle.load(f)\n",
    "\n",
    "G.number_of_nodes()"
   ]
  },
  {
   "cell_type": "code",
   "execution_count": null,
   "metadata": {},
   "outputs": [],
   "source": [
    "# get copt of the graph\n",
    "\n",
    "G_plot = G.copy()\n",
    "\n",
    "\n",
    "G_plot.number_of_nodes()"
   ]
  },
  {
   "cell_type": "code",
   "execution_count": null,
   "metadata": {},
   "outputs": [],
   "source": [
    "# make bidirectional by adding the reverse edges\n",
    "\n",
    "for u, v in G_plot.edges():\n",
    "    G_plot.add_edge(v, u)\n",
    "\n",
    "G_plot.number_of_edges()"
   ]
  },
  {
   "cell_type": "markdown",
   "metadata": {},
   "source": [
    "## Visualize the Graph"
   ]
  },
  {
   "cell_type": "code",
   "execution_count": 16,
   "metadata": {},
   "outputs": [],
   "source": [
    "# Interactive visualization\n",
    "%matplotlib qt"
   ]
  },
  {
   "cell_type": "code",
   "execution_count": null,
   "metadata": {},
   "outputs": [],
   "source": [
    "# copy and optionally filter out for testing\n",
    "\n",
    "G_filtered = G_plot.copy()\n",
    "\n",
    "# optional, uncomment to filter out below a population threshold\n",
    "# G_filtered.remove_nodes_from(\n",
    "#     [node[0] for node in G_plot.nodes(data=True) if node[1][\"pop\"] < 147] # specify a population threshold\n",
    "# )"
   ]
  },
  {
   "cell_type": "code",
   "execution_count": null,
   "metadata": {},
   "outputs": [],
   "source": [
    "# Draw the graph multipartite\n",
    "\n",
    "# get the positions multi-partite\n",
    "pos = nx.multipartite_layout(G_filtered, subset_key=\"pop\", align=\"horizontal\")\n",
    "\n",
    "# draw the graph\n",
    "plt.clf()\n",
    "nx.draw(\n",
    "    G_filtered,\n",
    "    pos,\n",
    "    node_size=75,\n",
    "    font_size=10,\n",
    "    font_weight=\"bold\",\n",
    "    arrowsize=8,\n",
    "    width=1,\n",
    "    alpha=0.75,\n",
    ")\n",
    "\n",
    "# add labels\n",
    "for node in G_filtered.nodes():\n",
    "    x, y = pos[node]\n",
    "    label = node\n",
    "    plt.text(x, y, label, fontsize=12, rotation=45, ha=\"left\")\n",
    "\n",
    "plt.title(\"Evolutionary Graph\")\n",
    "plt.show()"
   ]
  },
  {
   "cell_type": "markdown",
   "metadata": {},
   "source": [
    "## Pairwise Distances"
   ]
  },
  {
   "cell_type": "code",
   "execution_count": null,
   "metadata": {},
   "outputs": [],
   "source": [
    "# get max population\n",
    "max_pop = df_iterations[\"pop\"].max()\n",
    "\n",
    "max_pop"
   ]
  },
  {
   "cell_type": "code",
   "execution_count": null,
   "metadata": {},
   "outputs": [],
   "source": [
    "all_mpd_pops = []\n",
    "all_pops_unique = (\n",
    "    pd.Series([node[1][\"pop\"] for node in G_plot.nodes(data=True)])\n",
    "    .sort_values()\n",
    "    .unique()\n",
    ")\n",
    "for pop in [max_pop]:\n",
    "    leaf_nodes = [n for n in G_plot.nodes(data=True) if n[1][\"pop\"] == pop]\n",
    "    G_upto_pop = G_plot.subgraph(\n",
    "        [n[0] for n in G_plot.nodes(data=True) if n[1][\"pop\"] <= pop]\n",
    "    )\n",
    "\n",
    "    # for each unique pair of leaf nodes,\n",
    "    # calculate the shortest path between them\n",
    "    pairwise_distances = {}\n",
    "    no_path = []\n",
    "    for i in range(len(leaf_nodes)):\n",
    "        for j in range(i + 1, len(leaf_nodes)):\n",
    "            try:\n",
    "                dist = nx.shortest_path_length(\n",
    "                    G_upto_pop, leaf_nodes[i][0], leaf_nodes[j][0]\n",
    "                )\n",
    "                if dist > 2:\n",
    "                    pairwise_distances[(i, j)] = dist + 1\n",
    "            except nx.NetworkXNoPath:\n",
    "                no_path.append((i, j))\n",
    "\n",
    "    pairwise_distances_values = np.array(list(pairwise_distances.values()))\n",
    "\n",
    "    mpd_pop = (\n",
    "        pairwise_distances_values.sum()\n",
    "        * 2\n",
    "        / (len(leaf_nodes) * (len(leaf_nodes) - 1))\n",
    "    )\n",
    "    all_mpd_pops.append(mpd_pop)\n",
    "    print(\n",
    "        f\"Population {str(pop).zfill(3)} \"\n",
    "        f\"Mean Pairwise Distances: {mpd_pop.round(2)} \",\n",
    "    )\n",
    "\n",
    "np.array(all_mpd_pops).shape, np.array(no_path).shape"
   ]
  },
  {
   "cell_type": "code",
   "execution_count": null,
   "metadata": {},
   "outputs": [],
   "source": [
    "# plot\n",
    "\n",
    "plt.clf()\n",
    "plt.plot(all_mpd_pops)\n",
    "plt.xlabel(\"Population\")\n",
    "plt.ylabel(\"Mean Pairwise Distance\")\n",
    "plt.title(\"Mean Pairwise Distances for Each Population\")\n",
    "plt.savefig(f\"output/{record_timestamp}/mean_pairwise_distance.png\")\n",
    "plt.show()"
   ]
  },
  {
   "cell_type": "code",
   "execution_count": null,
   "metadata": {},
   "outputs": [],
   "source": [
    "final_mpd = all_mpd_pops[-1]\n",
    "\n",
    "final_mpd"
   ]
  },
  {
   "cell_type": "markdown",
   "metadata": {},
   "source": [
    "## Root Contribution Index"
   ]
  },
  {
   "cell_type": "code",
   "execution_count": null,
   "metadata": {},
   "outputs": [],
   "source": [
    "\"\"\"\n",
    "Root Contribution Index (RCI):} Calculates the \\textbf{contribution of each root}\n",
    "to the current population by counting the number of descendants for each root,\n",
    "and scales it by the \\textbf{age of the root} (in generations). Calculated for\n",
    "each generation.\n",
    "\"\"\"\n",
    "\n",
    "# get the roots based on the condition that they have no incoming edges\n",
    "roots = [n for n in G.nodes() if G.in_degree(n) == 0]\n",
    "\n",
    "# calculate the number of leaves that they lead to, for each root\n",
    "root_contributions = []\n",
    "for root in roots:\n",
    "    descs = nx.descendants(G, root)\n",
    "    # leaf_descs = [n for n in descs if G.nodes[n][\"pop\"] == max_pop]\n",
    "    root_age = max_pop - G.nodes[root][\"pop\"]\n",
    "    contribution = len(descs) / root_age\n",
    "    root_contributions.append(contribution)\n",
    "\n",
    "root_contributions = np.array(root_contributions)\n",
    "final_rci = root_contributions.sum() / G.number_of_nodes()\n",
    "\n",
    "final_rci"
   ]
  },
  {
   "cell_type": "code",
   "execution_count": null,
   "metadata": {},
   "outputs": [],
   "source": [
    "phylo_idx = final_mpd / final_rci\n",
    "\n",
    "phylo_idx"
   ]
  },
  {
   "cell_type": "code",
   "execution_count": null,
   "metadata": {},
   "outputs": [],
   "source": []
  }
 ],
 "metadata": {
  "kernelspec": {
   "display_name": "Python 3",
   "language": "python",
   "name": "python3"
  },
  "language_info": {
   "codemirror_mode": {
    "name": "ipython",
    "version": 3
   },
   "file_extension": ".py",
   "mimetype": "text/x-python",
   "name": "python",
   "nbconvert_exporter": "python",
   "pygments_lexer": "ipython3",
   "version": "3.10.11"
  }
 },
 "nbformat": 4,
 "nbformat_minor": 2
}
