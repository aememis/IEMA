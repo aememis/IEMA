{
 "cells": [
  {
   "cell_type": "markdown",
   "metadata": {},
   "source": [
    "# Preprocess FSD50K Dataset"
   ]
  },
  {
   "cell_type": "code",
   "execution_count": 1,
   "metadata": {},
   "outputs": [],
   "source": [
    "import json\n",
    "import pickle\n",
    "\n",
    "import matplotlib.pyplot as plt\n",
    "import networkx as nx\n",
    "import numpy as np\n",
    "import pandas as pd"
   ]
  },
  {
   "cell_type": "markdown",
   "metadata": {},
   "source": [
    "## Read dataset files"
   ]
  },
  {
   "cell_type": "code",
   "execution_count": 2,
   "metadata": {},
   "outputs": [
    {
     "data": {
      "text/html": [
       "<div>\n",
       "<style scoped>\n",
       "    .dataframe tbody tr th:only-of-type {\n",
       "        vertical-align: middle;\n",
       "    }\n",
       "\n",
       "    .dataframe tbody tr th {\n",
       "        vertical-align: top;\n",
       "    }\n",
       "\n",
       "    .dataframe thead th {\n",
       "        text-align: right;\n",
       "    }\n",
       "</style>\n",
       "<table border=\"1\" class=\"dataframe\">\n",
       "  <thead>\n",
       "    <tr style=\"text-align: right;\">\n",
       "      <th></th>\n",
       "      <th>fname</th>\n",
       "      <th>labels</th>\n",
       "      <th>mids</th>\n",
       "    </tr>\n",
       "  </thead>\n",
       "  <tbody>\n",
       "    <tr>\n",
       "      <th>0</th>\n",
       "      <td>64760</td>\n",
       "      <td>Electric_guitar</td>\n",
       "      <td>[/m/02sgy]</td>\n",
       "    </tr>\n",
       "    <tr>\n",
       "      <th>1</th>\n",
       "      <td>16399</td>\n",
       "      <td>Electric_guitar</td>\n",
       "      <td>[/m/02sgy]</td>\n",
       "    </tr>\n",
       "    <tr>\n",
       "      <th>2</th>\n",
       "      <td>16401</td>\n",
       "      <td>Electric_guitar</td>\n",
       "      <td>[/m/02sgy]</td>\n",
       "    </tr>\n",
       "    <tr>\n",
       "      <th>3</th>\n",
       "      <td>16402</td>\n",
       "      <td>Electric_guitar</td>\n",
       "      <td>[/m/02sgy]</td>\n",
       "    </tr>\n",
       "    <tr>\n",
       "      <th>4</th>\n",
       "      <td>16404</td>\n",
       "      <td>Electric_guitar</td>\n",
       "      <td>[/m/02sgy]</td>\n",
       "    </tr>\n",
       "  </tbody>\n",
       "</table>\n",
       "</div>"
      ],
      "text/plain": [
       "   fname           labels        mids\n",
       "0  64760  Electric_guitar  [/m/02sgy]\n",
       "1  16399  Electric_guitar  [/m/02sgy]\n",
       "2  16401  Electric_guitar  [/m/02sgy]\n",
       "3  16402  Electric_guitar  [/m/02sgy]\n",
       "4  16404  Electric_guitar  [/m/02sgy]"
      ]
     },
     "execution_count": 2,
     "metadata": {},
     "output_type": "execute_result"
    }
   ],
   "source": [
    "# Load the metacollection file\n",
    "\n",
    "df_metacoll = pd.read_csv(\n",
    "    r\"D:\\datasets\\FSD50K\\FSD50K.metadata\\collection\\collection_dev.csv\"\n",
    ")\n",
    "df_metacoll.mids = df_metacoll.mids.str.split(\",\")\n",
    "\n",
    "df_metacoll.head()"
   ]
  },
  {
   "cell_type": "code",
   "execution_count": 3,
   "metadata": {},
   "outputs": [
    {
     "data": {
      "text/plain": [
       "632"
      ]
     },
     "execution_count": 3,
     "metadata": {},
     "output_type": "execute_result"
    }
   ],
   "source": [
    "# Load the ontology file\n",
    "\n",
    "ontology_filepath = (\n",
    "    r\"C:\\Users\\memis\\Documents\\mct\\thesis\\code\\analyze_datasets\\ontology.json\"\n",
    ")\n",
    "with open(ontology_filepath) as f:\n",
    "    mids = json.load(f)\n",
    "dict_mids = {d[\"id\"]: d for d in mids}\n",
    "\n",
    "len(dict_mids.keys())"
   ]
  },
  {
   "cell_type": "markdown",
   "metadata": {},
   "source": [
    "## Create a directed graph"
   ]
  },
  {
   "cell_type": "code",
   "execution_count": 4,
   "metadata": {},
   "outputs": [
    {
     "data": {
      "text/plain": [
       "{'/m/04rlf',\n",
       " '/m/059j3w',\n",
       " '/m/0dgw9r',\n",
       " '/m/0jbk',\n",
       " '/t/dd00041',\n",
       " '/t/dd00098',\n",
       " '/t/dd00123'}"
      ]
     },
     "execution_count": 4,
     "metadata": {},
     "output_type": "execute_result"
    }
   ],
   "source": [
    "# Find the first level of the ontology\n",
    "\n",
    "first_level = set(dict_mids.keys())\n",
    "for ki in dict_mids.keys():\n",
    "    for kj, vd in dict_mids.items():\n",
    "        if ki in vd[\"child_ids\"]:\n",
    "            first_level.remove(ki)\n",
    "            break\n",
    "\n",
    "first_level"
   ]
  },
  {
   "cell_type": "code",
   "execution_count": 5,
   "metadata": {},
   "outputs": [
    {
     "data": {
      "text/plain": [
       "(632, 632, 632)"
      ]
     },
     "execution_count": 5,
     "metadata": {},
     "output_type": "execute_result"
    }
   ],
   "source": [
    "# Create a directed graph from the ontology\n",
    "\n",
    "G = nx.DiGraph()\n",
    "for mid, data in dict_mids.items():\n",
    "    G.add_node(mid, label=data[\"name\"])\n",
    "    for child in data[\"child_ids\"]:\n",
    "        G.add_edge(mid, child)\n",
    "\n",
    "len(dict_mids), len(set(G.nodes())), len(G.nodes())"
   ]
  },
  {
   "cell_type": "code",
   "execution_count": 6,
   "metadata": {},
   "outputs": [
    {
     "data": {
      "text/plain": [
       "dict_keys([0, 1, 2, 3, 4, 5])"
      ]
     },
     "execution_count": 6,
     "metadata": {},
     "output_type": "execute_result"
    }
   ],
   "source": [
    "# Create graph layout for visualization\n",
    "\n",
    "layers = {}\n",
    "layers[0] = list(first_level)\n",
    "level = list(first_level)\n",
    "level_id = 0\n",
    "visited = []\n",
    "visited.extend(first_level)\n",
    "\n",
    "while True:\n",
    "    level_id += 1\n",
    "    next_level = []\n",
    "    for mid in level:\n",
    "        for child in dict_mids[mid][\"child_ids\"]:\n",
    "            if child not in visited:\n",
    "                next_level.append(child)\n",
    "                visited.append(child)\n",
    "    if len(next_level) == 0:\n",
    "        break\n",
    "    layers[level_id] = next_level\n",
    "    level = next_level\n",
    "\n",
    "layers.keys()"
   ]
  },
  {
   "cell_type": "markdown",
   "metadata": {},
   "source": [
    "## Visualize"
   ]
  },
  {
   "cell_type": "markdown",
   "metadata": {},
   "source": [
    "### Interactive vs Non-Interactive Visualization"
   ]
  },
  {
   "cell_type": "code",
   "execution_count": 7,
   "metadata": {},
   "outputs": [],
   "source": [
    "# Interactive\n",
    "%matplotlib qt"
   ]
  },
  {
   "cell_type": "code",
   "execution_count": 8,
   "metadata": {},
   "outputs": [],
   "source": [
    "# Non-interactive\n",
    "%matplotlib inline"
   ]
  },
  {
   "cell_type": "markdown",
   "metadata": {},
   "source": [
    "### Draw"
   ]
  },
  {
   "cell_type": "code",
   "execution_count": 8,
   "metadata": {},
   "outputs": [],
   "source": [
    "# Draw the graph with hierarchical layout\n",
    "\n",
    "plt.clf()\n",
    "pos = nx.multipartite_layout(G, subset_key=layers, align=\"horizontal\")\n",
    "nx.draw(\n",
    "    G,\n",
    "    pos,\n",
    "    # labels=nx.get_node_attributes(G, \"label\"),\n",
    "    # with_labels=True,\n",
    "    node_size=75,\n",
    "    font_size=10,\n",
    "    font_weight=\"bold\",\n",
    "    arrowsize=5,\n",
    "    width=1,\n",
    "    alpha=0.75,\n",
    ")\n",
    "\n",
    "# Add labels\n",
    "for node in G.nodes():\n",
    "    x, y = pos[node]\n",
    "    label = G.nodes[node][\"label\"]\n",
    "    plt.text(\n",
    "        x,\n",
    "        y,\n",
    "        label[:20],\n",
    "        fontsize=8,\n",
    "        rotation=45,\n",
    "        ha=\"left\",\n",
    "    )\n",
    "\n",
    "plt.title(\"Dataset Ontology (FSD50K)\")\n",
    "plt.show()"
   ]
  },
  {
   "cell_type": "markdown",
   "metadata": {},
   "source": [
    "### Save graph"
   ]
  },
  {
   "cell_type": "code",
   "execution_count": 10,
   "metadata": {},
   "outputs": [],
   "source": [
    "# Save the graph to a file\n",
    "\n",
    "timestamp = pd.Timestamp.now().strftime(\"%Y%m%d_%H%M%S\")\n",
    "with open(f\"{timestamp}_dataset_ontology.gpickle\", \"wb\") as f:\n",
    "    pickle.dump(G, f, pickle.HIGHEST_PROTOCOL)"
   ]
  }
 ],
 "metadata": {
  "kernelspec": {
   "display_name": "Python 3",
   "language": "python",
   "name": "python3"
  },
  "language_info": {
   "codemirror_mode": {
    "name": "ipython",
    "version": 3
   },
   "file_extension": ".py",
   "mimetype": "text/x-python",
   "name": "python",
   "nbconvert_exporter": "python",
   "pygments_lexer": "ipython3",
   "version": "3.10.11"
  }
 },
 "nbformat": 4,
 "nbformat_minor": 2
}
