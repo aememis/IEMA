{
 "cells": [
  {
   "cell_type": "code",
   "execution_count": 3,
   "metadata": {},
   "outputs": [],
   "source": [
    "from sklearn.cluster import KMeans\n",
    "from sklearn.preprocessing import StandardScaler\n",
    "import numpy as np\n",
    "import pickle\n",
    "import pandas as pd\n",
    "from mpl_toolkits.mplot3d import Axes3D\n",
    "from sklearn.manifold import TSNE\n",
    "import matplotlib.pyplot as plt"
   ]
  },
  {
   "cell_type": "code",
   "execution_count": 4,
   "metadata": {},
   "outputs": [],
   "source": [
    "%matplotlib widget"
   ]
  },
  {
   "cell_type": "code",
   "execution_count": 5,
   "metadata": {},
   "outputs": [
    {
     "data": {
      "text/plain": [
       "(18580, 6)"
      ]
     },
     "execution_count": 5,
     "metadata": {},
     "output_type": "execute_result"
    }
   ],
   "source": [
    "with open(\"features.pkl\", \"rb\") as f:\n",
    "    df_features = pickle.load(f)\n",
    "nd_features = df_features.values\n",
    "\n",
    "nd_features.shape"
   ]
  },
  {
   "cell_type": "code",
   "execution_count": 6,
   "metadata": {},
   "outputs": [
    {
     "data": {
      "text/html": [
       "<div>\n",
       "<style scoped>\n",
       "    .dataframe tbody tr th:only-of-type {\n",
       "        vertical-align: middle;\n",
       "    }\n",
       "\n",
       "    .dataframe tbody tr th {\n",
       "        vertical-align: top;\n",
       "    }\n",
       "\n",
       "    .dataframe thead th {\n",
       "        text-align: right;\n",
       "    }\n",
       "</style>\n",
       "<table border=\"1\" class=\"dataframe\">\n",
       "  <thead>\n",
       "    <tr style=\"text-align: right;\">\n",
       "      <th></th>\n",
       "      <th>p1</th>\n",
       "      <th>p2</th>\n",
       "      <th>p3</th>\n",
       "      <th>p4</th>\n",
       "      <th>p5</th>\n",
       "      <th>p6</th>\n",
       "      <th>score</th>\n",
       "      <th>pop</th>\n",
       "      <th>iteration</th>\n",
       "      <th>path_id</th>\n",
       "    </tr>\n",
       "  </thead>\n",
       "  <tbody>\n",
       "    <tr>\n",
       "      <th>count</th>\n",
       "      <td>100000.000000</td>\n",
       "      <td>100000.000000</td>\n",
       "      <td>100000.000000</td>\n",
       "      <td>100000.000000</td>\n",
       "      <td>100000.000000</td>\n",
       "      <td>100000.000000</td>\n",
       "      <td>100000.0</td>\n",
       "      <td>100000.000</td>\n",
       "      <td>100000.000</td>\n",
       "      <td>100000.0</td>\n",
       "    </tr>\n",
       "    <tr>\n",
       "      <th>mean</th>\n",
       "      <td>0.128438</td>\n",
       "      <td>0.544384</td>\n",
       "      <td>0.220869</td>\n",
       "      <td>0.586252</td>\n",
       "      <td>0.280568</td>\n",
       "      <td>0.039520</td>\n",
       "      <td>-1.0</td>\n",
       "      <td>251.500</td>\n",
       "      <td>249.500</td>\n",
       "      <td>0.0</td>\n",
       "    </tr>\n",
       "    <tr>\n",
       "      <th>std</th>\n",
       "      <td>0.074738</td>\n",
       "      <td>0.111038</td>\n",
       "      <td>0.099093</td>\n",
       "      <td>0.090135</td>\n",
       "      <td>0.103557</td>\n",
       "      <td>0.062496</td>\n",
       "      <td>0.0</td>\n",
       "      <td>144.338</td>\n",
       "      <td>144.338</td>\n",
       "      <td>0.0</td>\n",
       "    </tr>\n",
       "    <tr>\n",
       "      <th>min</th>\n",
       "      <td>0.002194</td>\n",
       "      <td>0.069219</td>\n",
       "      <td>0.000993</td>\n",
       "      <td>0.151914</td>\n",
       "      <td>0.011036</td>\n",
       "      <td>0.000005</td>\n",
       "      <td>-1.0</td>\n",
       "      <td>2.000</td>\n",
       "      <td>0.000</td>\n",
       "      <td>0.0</td>\n",
       "    </tr>\n",
       "    <tr>\n",
       "      <th>25%</th>\n",
       "      <td>0.072999</td>\n",
       "      <td>0.462637</td>\n",
       "      <td>0.145595</td>\n",
       "      <td>0.527899</td>\n",
       "      <td>0.207128</td>\n",
       "      <td>0.006411</td>\n",
       "      <td>-1.0</td>\n",
       "      <td>126.750</td>\n",
       "      <td>124.750</td>\n",
       "      <td>0.0</td>\n",
       "    </tr>\n",
       "    <tr>\n",
       "      <th>50%</th>\n",
       "      <td>0.110355</td>\n",
       "      <td>0.547562</td>\n",
       "      <td>0.213000</td>\n",
       "      <td>0.586466</td>\n",
       "      <td>0.257567</td>\n",
       "      <td>0.016881</td>\n",
       "      <td>-1.0</td>\n",
       "      <td>251.500</td>\n",
       "      <td>249.500</td>\n",
       "      <td>0.0</td>\n",
       "    </tr>\n",
       "    <tr>\n",
       "      <th>75%</th>\n",
       "      <td>0.171743</td>\n",
       "      <td>0.620106</td>\n",
       "      <td>0.291473</td>\n",
       "      <td>0.652050</td>\n",
       "      <td>0.332844</td>\n",
       "      <td>0.039877</td>\n",
       "      <td>-1.0</td>\n",
       "      <td>376.250</td>\n",
       "      <td>374.250</td>\n",
       "      <td>0.0</td>\n",
       "    </tr>\n",
       "    <tr>\n",
       "      <th>max</th>\n",
       "      <td>0.567949</td>\n",
       "      <td>0.878750</td>\n",
       "      <td>0.593685</td>\n",
       "      <td>0.900997</td>\n",
       "      <td>0.817247</td>\n",
       "      <td>0.815931</td>\n",
       "      <td>-1.0</td>\n",
       "      <td>501.000</td>\n",
       "      <td>499.000</td>\n",
       "      <td>0.0</td>\n",
       "    </tr>\n",
       "  </tbody>\n",
       "</table>\n",
       "</div>"
      ],
      "text/plain": [
       "                  p1             p2             p3             p4   \n",
       "count  100000.000000  100000.000000  100000.000000  100000.000000  \\\n",
       "mean        0.128438       0.544384       0.220869       0.586252   \n",
       "std         0.074738       0.111038       0.099093       0.090135   \n",
       "min         0.002194       0.069219       0.000993       0.151914   \n",
       "25%         0.072999       0.462637       0.145595       0.527899   \n",
       "50%         0.110355       0.547562       0.213000       0.586466   \n",
       "75%         0.171743       0.620106       0.291473       0.652050   \n",
       "max         0.567949       0.878750       0.593685       0.900997   \n",
       "\n",
       "                  p5             p6     score         pop   iteration   \n",
       "count  100000.000000  100000.000000  100000.0  100000.000  100000.000  \\\n",
       "mean        0.280568       0.039520      -1.0     251.500     249.500   \n",
       "std         0.103557       0.062496       0.0     144.338     144.338   \n",
       "min         0.011036       0.000005      -1.0       2.000       0.000   \n",
       "25%         0.207128       0.006411      -1.0     126.750     124.750   \n",
       "50%         0.257567       0.016881      -1.0     251.500     249.500   \n",
       "75%         0.332844       0.039877      -1.0     376.250     374.250   \n",
       "max         0.817247       0.815931      -1.0     501.000     499.000   \n",
       "\n",
       "        path_id  \n",
       "count  100000.0  \n",
       "mean        0.0  \n",
       "std         0.0  \n",
       "min         0.0  \n",
       "25%         0.0  \n",
       "50%         0.0  \n",
       "75%         0.0  \n",
       "max         0.0  "
      ]
     },
     "execution_count": 6,
     "metadata": {},
     "output_type": "execute_result"
    }
   ],
   "source": [
    "# read iterations\n",
    "with open(\"output/20240420_184538/20240420_184538_analysis_population.pkl\", \"rb\") as f:\n",
    "    df_iterations = pickle.load(f)\n",
    "\n",
    "df_iterations.describe()"
   ]
  },
  {
   "cell_type": "code",
   "execution_count": null,
   "metadata": {},
   "outputs": [],
   "source": [
    "######## comment out\n",
    "\n",
    "for iteration in df_iterations.iteration.unique()[:1]:\n",
    "    df_epoch = df_iterations[df_iterations.iteration == iteration]\n",
    "    df_epoch = df_epoch[[\"p1\", \"p2\", \"p3\", \"p4\", \"p5\", \"p6\"]]\n",
    "    \n",
    "df_epoch.describe()"
   ]
  },
  {
   "cell_type": "code",
   "execution_count": 7,
   "metadata": {},
   "outputs": [
    {
     "name": "stderr",
     "output_type": "stream",
     "text": [
      "c:\\Users\\emin\\AppData\\Local\\Programs\\Python\\Python310\\lib\\site-packages\\sklearn\\cluster\\_kmeans.py:870: FutureWarning: The default value of `n_init` will change from 10 to 'auto' in 1.4. Set the value of `n_init` explicitly to suppress the warning\n",
      "  warnings.warn(\n"
     ]
    },
    {
     "name": "stdout",
     "output_type": "stream",
     "text": [
      "cluster\n",
      "4    5553\n",
      "0    4711\n",
      "2    3965\n",
      "1    3591\n",
      "3     760\n",
      "Name: count, dtype: int64\n"
     ]
    }
   ],
   "source": [
    "# Scale the features\n",
    "# scaler = StandardScaler()\n",
    "# data_scaled = scaler.fit_transform(nd_features)\n",
    "\n",
    "# Apply K-means clustering\n",
    "kmeans = KMeans(n_clusters=5, random_state=42).fit(nd_features)\n",
    "labels = kmeans.labels_\n",
    "\n",
    "# Save the DataFrame with cluster labels\n",
    "df_features[\"cluster\"] = labels\n",
    "with open(\"features_clustered_TEST.pkl\", \"wb\") as f:\n",
    "    pickle.dump(df_features, f)\n",
    "###\n",
    "\n",
    "# print(df_features.head())\n",
    "# print(df_features.describe())\n",
    "print(df_features.cluster.value_counts())"
   ]
  },
  {
   "cell_type": "code",
   "execution_count": null,
   "metadata": {},
   "outputs": [],
   "source": [
    "#### comment out\n",
    "\n",
    "# find visited indexes\n",
    "visited_indexes = []\n",
    "for individual in df_epoch.values:\n",
    "    for index, feature in enumerate(nd_features):\n",
    "        if np.array_equal(individual, feature):\n",
    "            visited_indexes.append(index)\n",
    "            break\n",
    "visited_indexes = np.array(visited_indexes)\n",
    "\n",
    "visited_indexes"
   ]
  },
  {
   "cell_type": "code",
   "execution_count": 18,
   "metadata": {},
   "outputs": [
    {
     "name": "stdout",
     "output_type": "stream",
     "text": [
      "Warning: Cannot change to a different GUI toolkit: qt. Using notebook instead.\n"
     ]
    }
   ],
   "source": [
    "%matplotlib widget"
   ]
  },
  {
   "cell_type": "code",
   "execution_count": null,
   "metadata": {},
   "outputs": [],
   "source": [
    "# VISUALIZE THE CLUSTERS (2D) with t-SNE\n",
    "tsne = TSNE(n_components=2, random_state=0)\n",
    "features_data_tsne = tsne.fit_transform(nd_features)\n",
    "df_tsne = pd.DataFrame(features_data_tsne, columns=[\"x\", \"y\"])\n",
    "\n",
    "for i, iteration in enumerate(df_iterations.iteration.unique()):\n",
    "    df_epoch = df_iterations[df_iterations.iteration == iteration]\n",
    "    df_epoch = df_epoch[[\"p1\", \"p2\", \"p3\", \"p4\", \"p5\", \"p6\"]]\n",
    "    \n",
    "    # find visited indexes\n",
    "    visited_indexes = []\n",
    "    for individual in df_epoch.values:\n",
    "        for index, feature in enumerate(nd_features):\n",
    "            if np.array_equal(individual, feature):\n",
    "                visited_indexes.append(index)\n",
    "                break\n",
    "    visited_indexes = np.array(visited_indexes)\n",
    "\n",
    "    df_tsne[\"cluster\"] = labels\n",
    "\n",
    "    plt.clf()\n",
    "    plt.figure(figsize=(10, 10))\n",
    "    plt.scatter(df_tsne[\"x\"], df_tsne[\"y\"], s=1, c=df_tsne[\"cluster\"], cmap=\"viridis\")\n",
    "    plt.scatter(df_tsne[\"x\"].iloc[visited_indexes], df_tsne[\"y\"].iloc[visited_indexes], c=\"red\", s=3, marker=\"^\")\n",
    "    plt.show()\n",
    "    plt.savefig(f\"clusters_TEST_{i}.png\")"
   ]
  },
  {
   "cell_type": "code",
   "execution_count": null,
   "metadata": {},
   "outputs": [],
   "source": [
    "# VISUALIZE THE CLUSTERS (3D) with t-SNE\n",
    "tsne = TSNE(n_components=3, random_state=0)\n",
    "features_data_tsne = tsne.fit_transform(nd_features)\n",
    "\n",
    "df_tsne = pd.DataFrame(features_data_tsne, columns=[\"x\", \"y\", \"z\"])\n",
    "df_tsne[\"cluster\"] = labels\n",
    "\n",
    "fig = plt.figure(figsize=(10, 10))\n",
    "ax = fig.add_subplot(111, projection=\"3d\")\n",
    "ax.scatter(\n",
    "    df_tsne[\"x\"], df_tsne[\"y\"], df_tsne[\"z\"], c=df_tsne[\"cluster\"], cmap=\"viridis\"\n",
    ")\n",
    "plt.show()\n",
    "plt.savefig(\"clusters_3d_TEST.png\")\n"
   ]
  }
 ],
 "metadata": {
  "kernelspec": {
   "display_name": "Python 3",
   "language": "python",
   "name": "python3"
  },
  "language_info": {
   "codemirror_mode": {
    "name": "ipython",
    "version": 3
   },
   "file_extension": ".py",
   "mimetype": "text/x-python",
   "name": "python",
   "nbconvert_exporter": "python",
   "pygments_lexer": "ipython3",
   "version": "3.10.9"
  }
 },
 "nbformat": 4,
 "nbformat_minor": 2
}
