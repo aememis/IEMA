{
 "cells": [
  {
   "cell_type": "code",
   "execution_count": 3,
   "metadata": {},
   "outputs": [],
   "source": [
    "from sklearn.cluster import KMeans\n",
    "from sklearn.preprocessing import StandardScaler\n",
    "import numpy as np\n",
    "from PIL import Image\n",
    "import imageio\n",
    "import pickle\n",
    "import pandas as pd\n",
    "import os\n",
    "from mpl_toolkits.mplot3d import Axes3D\n",
    "from sklearn.manifold import TSNE\n",
    "import matplotlib.pyplot as plt"
   ]
  },
  {
   "cell_type": "code",
   "execution_count": 4,
   "metadata": {},
   "outputs": [],
   "source": [
    "%matplotlib inline"
   ]
  },
  {
   "cell_type": "code",
   "execution_count": 24,
   "metadata": {},
   "outputs": [
    {
     "data": {
      "text/plain": [
       "'20241006_233033'"
      ]
     },
     "execution_count": 24,
     "metadata": {},
     "output_type": "execute_result"
    }
   ],
   "source": [
    "record_timestamp = \"20241006_233033\"\n",
    "\n",
    "record_timestamp"
   ]
  },
  {
   "cell_type": "code",
   "execution_count": 11,
   "metadata": {},
   "outputs": [
    {
     "data": {
      "text/plain": [
       "(218, 6)"
      ]
     },
     "execution_count": 11,
     "metadata": {},
     "output_type": "execute_result"
    }
   ],
   "source": [
    "with open(\"features.pkl\", \"rb\") as f:\n",
    "    df_features = pickle.load(f)\n",
    "nd_features = df_features.values\n",
    "\n",
    "nd_features.shape"
   ]
  },
  {
   "cell_type": "code",
   "execution_count": 12,
   "metadata": {},
   "outputs": [],
   "source": [
    "with open(\n",
    "    f\"output/{record_timestamp}/{record_timestamp}_analysis_population.pkl\",\n",
    "    \"rb\",\n",
    ") as f:\n",
    "    df_iterations = pickle.load(f)"
   ]
  },
  {
   "cell_type": "code",
   "execution_count": 13,
   "metadata": {},
   "outputs": [
    {
     "data": {
      "text/plain": [
       "(150,)"
      ]
     },
     "execution_count": 13,
     "metadata": {},
     "output_type": "execute_result"
    }
   ],
   "source": [
    "all_pops_cat = []\n",
    "for pop in df_iterations[\"pop\"].unique():\n",
    "    df_gen = df_iterations.loc[\n",
    "        df_iterations[\"pop\"] == pop, [\"p1\", \"p2\", \"p3\", \"p4\", \"p5\", \"p6\"]\n",
    "    ]\n",
    "    i_bar = df_gen.mean(axis=0)\n",
    "    var = np.sum((df_gen - i_bar) ** 2, axis=0) / len(df_gen.index)\n",
    "    all_pops_cat.append(np.mean(var))\n",
    "\n",
    "np.array(all_pops_cat).shape"
   ]
  },
  {
   "cell_type": "code",
   "execution_count": 14,
   "metadata": {},
   "outputs": [
    {
     "data": {
      "image/png": "[encoded data removed]",
      "text/plain": [
       "<Figure size 640x480 with 1 Axes>"
      ]
     },
     "metadata": {},
     "output_type": "display_data"
    }
   ],
   "source": [
    "# plot variance\n",
    "plt.plot(all_pops_cat)\n",
    "plt.xlabel(\"Population\")\n",
    "plt.ylabel(\"Variance\")\n",
    "plt.title(\"Variance of each population\")\n",
    "plt.ylim(0, 1)\n",
    "plt.show()"
   ]
  },
  {
   "cell_type": "code",
   "execution_count": 15,
   "metadata": {},
   "outputs": [
    {
     "data": {
      "text/html": [
       "<div>\n",
       "<style scoped>\n",
       "    .dataframe tbody tr th:only-of-type {\n",
       "        vertical-align: middle;\n",
       "    }\n",
       "\n",
       "    .dataframe tbody tr th {\n",
       "        vertical-align: top;\n",
       "    }\n",
       "\n",
       "    .dataframe thead th {\n",
       "        text-align: right;\n",
       "    }\n",
       "</style>\n",
       "<table border=\"1\" class=\"dataframe\">\n",
       "  <thead>\n",
       "    <tr style=\"text-align: right;\">\n",
       "      <th></th>\n",
       "      <th>filename</th>\n",
       "      <th>sample_id</th>\n",
       "    </tr>\n",
       "  </thead>\n",
       "  <tbody>\n",
       "    <tr>\n",
       "      <th>0</th>\n",
       "      <td>349217</td>\n",
       "      <td>0</td>\n",
       "    </tr>\n",
       "    <tr>\n",
       "      <th>1</th>\n",
       "      <td>399910</td>\n",
       "      <td>1</td>\n",
       "    </tr>\n",
       "    <tr>\n",
       "      <th>2</th>\n",
       "      <td>355149</td>\n",
       "      <td>2</td>\n",
       "    </tr>\n",
       "    <tr>\n",
       "      <th>3</th>\n",
       "      <td>35437</td>\n",
       "      <td>3</td>\n",
       "    </tr>\n",
       "    <tr>\n",
       "      <th>4</th>\n",
       "      <td>235105</td>\n",
       "      <td>4</td>\n",
       "    </tr>\n",
       "  </tbody>\n",
       "</table>\n",
       "</div>"
      ],
      "text/plain": [
       "  filename  sample_id\n",
       "0   349217          0\n",
       "1   399910          1\n",
       "2   355149          2\n",
       "3    35437          3\n",
       "4   235105          4"
      ]
     },
     "execution_count": 15,
     "metadata": {},
     "output_type": "execute_result"
    }
   ],
   "source": [
    "# plot categorical variance\n",
    "\n",
    "with open(\"filenames.pkl\", \"rb\") as f:\n",
    "    df_filenames = pickle.load(f)\n",
    "df_filenames.filename = df_filenames.filename.apply(os.path.splitext).str[0]\n",
    "\n",
    "df_filenames.head()"
   ]
  },
  {
   "cell_type": "code",
   "execution_count": 16,
   "metadata": {},
   "outputs": [
    {
     "data": {
      "text/html": [
       "<div>\n",
       "<style scoped>\n",
       "    .dataframe tbody tr th:only-of-type {\n",
       "        vertical-align: middle;\n",
       "    }\n",
       "\n",
       "    .dataframe tbody tr th {\n",
       "        vertical-align: top;\n",
       "    }\n",
       "\n",
       "    .dataframe thead th {\n",
       "        text-align: right;\n",
       "    }\n",
       "</style>\n",
       "<table border=\"1\" class=\"dataframe\">\n",
       "  <thead>\n",
       "    <tr style=\"text-align: right;\">\n",
       "      <th></th>\n",
       "      <th>fname</th>\n",
       "      <th>labels</th>\n",
       "      <th>mids</th>\n",
       "    </tr>\n",
       "  </thead>\n",
       "  <tbody>\n",
       "    <tr>\n",
       "      <th>0</th>\n",
       "      <td>64760</td>\n",
       "      <td>Electric_guitar</td>\n",
       "      <td>[/m/02sgy]</td>\n",
       "    </tr>\n",
       "    <tr>\n",
       "      <th>1</th>\n",
       "      <td>16399</td>\n",
       "      <td>Electric_guitar</td>\n",
       "      <td>[/m/02sgy]</td>\n",
       "    </tr>\n",
       "    <tr>\n",
       "      <th>2</th>\n",
       "      <td>16401</td>\n",
       "      <td>Electric_guitar</td>\n",
       "      <td>[/m/02sgy]</td>\n",
       "    </tr>\n",
       "    <tr>\n",
       "      <th>3</th>\n",
       "      <td>16402</td>\n",
       "      <td>Electric_guitar</td>\n",
       "      <td>[/m/02sgy]</td>\n",
       "    </tr>\n",
       "    <tr>\n",
       "      <th>4</th>\n",
       "      <td>16404</td>\n",
       "      <td>Electric_guitar</td>\n",
       "      <td>[/m/02sgy]</td>\n",
       "    </tr>\n",
       "  </tbody>\n",
       "</table>\n",
       "</div>"
      ],
      "text/plain": [
       "   fname           labels        mids\n",
       "0  64760  Electric_guitar  [/m/02sgy]\n",
       "1  16399  Electric_guitar  [/m/02sgy]\n",
       "2  16401  Electric_guitar  [/m/02sgy]\n",
       "3  16402  Electric_guitar  [/m/02sgy]\n",
       "4  16404  Electric_guitar  [/m/02sgy]"
      ]
     },
     "execution_count": 16,
     "metadata": {},
     "output_type": "execute_result"
    }
   ],
   "source": [
    "# Load the metadata file\n",
    "\n",
    "df_metacoll = pd.read_csv(\n",
    "    r\"D:\\datasets\\FSD50K\\FSD50K.metadata\\collection\\collection_dev.csv\"\n",
    ")\n",
    "df_metacoll.mids = df_metacoll.mids.str.split(\",\")\n",
    "df_metacoll.fname = df_metacoll.fname.astype(str)\n",
    "\n",
    "df_metacoll.head()"
   ]
  },
  {
   "cell_type": "code",
   "execution_count": 17,
   "metadata": {},
   "outputs": [
    {
     "data": {
      "text/html": [
       "<div>\n",
       "<style scoped>\n",
       "    .dataframe tbody tr th:only-of-type {\n",
       "        vertical-align: middle;\n",
       "    }\n",
       "\n",
       "    .dataframe tbody tr th {\n",
       "        vertical-align: top;\n",
       "    }\n",
       "\n",
       "    .dataframe thead th {\n",
       "        text-align: right;\n",
       "    }\n",
       "</style>\n",
       "<table border=\"1\" class=\"dataframe\">\n",
       "  <thead>\n",
       "    <tr style=\"text-align: right;\">\n",
       "      <th></th>\n",
       "      <th>p1</th>\n",
       "      <th>p2</th>\n",
       "      <th>p3</th>\n",
       "      <th>p4</th>\n",
       "      <th>p5</th>\n",
       "      <th>p6</th>\n",
       "      <th>score</th>\n",
       "      <th>pop</th>\n",
       "      <th>sample_id</th>\n",
       "      <th>id</th>\n",
       "      <th>iteration</th>\n",
       "      <th>path_id</th>\n",
       "      <th>projection_method</th>\n",
       "      <th>corpus_method</th>\n",
       "      <th>filename</th>\n",
       "    </tr>\n",
       "  </thead>\n",
       "  <tbody>\n",
       "    <tr>\n",
       "      <th>0</th>\n",
       "      <td>0.256766</td>\n",
       "      <td>0.436668</td>\n",
       "      <td>0.124341</td>\n",
       "      <td>0.427692</td>\n",
       "      <td>0.108590</td>\n",
       "      <td>0.048734</td>\n",
       "      <td>-1</td>\n",
       "      <td>2</td>\n",
       "      <td>153</td>\n",
       "      <td>200</td>\n",
       "      <td>0</td>\n",
       "      <td>0</td>\n",
       "      <td>tsne</td>\n",
       "      <td>read</td>\n",
       "      <td>374237</td>\n",
       "    </tr>\n",
       "    <tr>\n",
       "      <th>1</th>\n",
       "      <td>0.289581</td>\n",
       "      <td>0.439002</td>\n",
       "      <td>0.087508</td>\n",
       "      <td>0.415841</td>\n",
       "      <td>0.341846</td>\n",
       "      <td>0.000726</td>\n",
       "      <td>-1</td>\n",
       "      <td>2</td>\n",
       "      <td>132</td>\n",
       "      <td>201</td>\n",
       "      <td>0</td>\n",
       "      <td>0</td>\n",
       "      <td>tsne</td>\n",
       "      <td>read</td>\n",
       "      <td>204648</td>\n",
       "    </tr>\n",
       "    <tr>\n",
       "      <th>2</th>\n",
       "      <td>0.073548</td>\n",
       "      <td>0.873121</td>\n",
       "      <td>0.531131</td>\n",
       "      <td>0.544816</td>\n",
       "      <td>0.782904</td>\n",
       "      <td>0.140546</td>\n",
       "      <td>-1</td>\n",
       "      <td>2</td>\n",
       "      <td>57</td>\n",
       "      <td>202</td>\n",
       "      <td>0</td>\n",
       "      <td>0</td>\n",
       "      <td>tsne</td>\n",
       "      <td>read</td>\n",
       "      <td>433669</td>\n",
       "    </tr>\n",
       "    <tr>\n",
       "      <th>3</th>\n",
       "      <td>0.002685</td>\n",
       "      <td>0.801494</td>\n",
       "      <td>0.431975</td>\n",
       "      <td>0.204664</td>\n",
       "      <td>0.301127</td>\n",
       "      <td>0.028617</td>\n",
       "      <td>-1</td>\n",
       "      <td>2</td>\n",
       "      <td>55</td>\n",
       "      <td>203</td>\n",
       "      <td>0</td>\n",
       "      <td>0</td>\n",
       "      <td>tsne</td>\n",
       "      <td>read</td>\n",
       "      <td>269117</td>\n",
       "    </tr>\n",
       "    <tr>\n",
       "      <th>4</th>\n",
       "      <td>0.482050</td>\n",
       "      <td>0.779908</td>\n",
       "      <td>0.246573</td>\n",
       "      <td>1.000000</td>\n",
       "      <td>0.473651</td>\n",
       "      <td>0.171023</td>\n",
       "      <td>-1</td>\n",
       "      <td>2</td>\n",
       "      <td>35</td>\n",
       "      <td>204</td>\n",
       "      <td>0</td>\n",
       "      <td>0</td>\n",
       "      <td>tsne</td>\n",
       "      <td>read</td>\n",
       "      <td>340553</td>\n",
       "    </tr>\n",
       "  </tbody>\n",
       "</table>\n",
       "</div>"
      ],
      "text/plain": [
       "         p1        p2        p3        p4        p5        p6  score  pop  \\\n",
       "0  0.256766  0.436668  0.124341  0.427692  0.108590  0.048734     -1    2   \n",
       "1  0.289581  0.439002  0.087508  0.415841  0.341846  0.000726     -1    2   \n",
       "2  0.073548  0.873121  0.531131  0.544816  0.782904  0.140546     -1    2   \n",
       "3  0.002685  0.801494  0.431975  0.204664  0.301127  0.028617     -1    2   \n",
       "4  0.482050  0.779908  0.246573  1.000000  0.473651  0.171023     -1    2   \n",
       "\n",
       "   sample_id   id  iteration  path_id projection_method corpus_method filename  \n",
       "0        153  200          0        0              tsne          read   374237  \n",
       "1        132  201          0        0              tsne          read   204648  \n",
       "2         57  202          0        0              tsne          read   433669  \n",
       "3         55  203          0        0              tsne          read   269117  \n",
       "4         35  204          0        0              tsne          read   340553  "
      ]
     },
     "execution_count": 17,
     "metadata": {},
     "output_type": "execute_result"
    }
   ],
   "source": [
    "df_iter_w_filename = df_iterations.merge(\n",
    "    df_filenames, on=\"sample_id\", how=\"left\"\n",
    ")\n",
    "df_iter_w_filename.filename = df_iter_w_filename.filename.astype(str)\n",
    "\n",
    "df_iter_w_filename.head()"
   ]
  },
  {
   "cell_type": "code",
   "execution_count": 18,
   "metadata": {},
   "outputs": [
    {
     "data": {
      "text/html": [
       "<div>\n",
       "<style scoped>\n",
       "    .dataframe tbody tr th:only-of-type {\n",
       "        vertical-align: middle;\n",
       "    }\n",
       "\n",
       "    .dataframe tbody tr th {\n",
       "        vertical-align: top;\n",
       "    }\n",
       "\n",
       "    .dataframe thead th {\n",
       "        text-align: right;\n",
       "    }\n",
       "</style>\n",
       "<table border=\"1\" class=\"dataframe\">\n",
       "  <thead>\n",
       "    <tr style=\"text-align: right;\">\n",
       "      <th></th>\n",
       "      <th>p1</th>\n",
       "      <th>p2</th>\n",
       "      <th>p3</th>\n",
       "      <th>p4</th>\n",
       "      <th>p5</th>\n",
       "      <th>p6</th>\n",
       "      <th>score</th>\n",
       "      <th>pop</th>\n",
       "      <th>sample_id</th>\n",
       "      <th>id</th>\n",
       "      <th>iteration</th>\n",
       "      <th>path_id</th>\n",
       "      <th>projection_method</th>\n",
       "      <th>corpus_method</th>\n",
       "      <th>filename</th>\n",
       "      <th>fname</th>\n",
       "      <th>labels</th>\n",
       "      <th>mids</th>\n",
       "      <th>mids_first</th>\n",
       "    </tr>\n",
       "  </thead>\n",
       "  <tbody>\n",
       "    <tr>\n",
       "      <th>0</th>\n",
       "      <td>0.256766</td>\n",
       "      <td>0.436668</td>\n",
       "      <td>0.124341</td>\n",
       "      <td>0.427692</td>\n",
       "      <td>0.108590</td>\n",
       "      <td>0.048734</td>\n",
       "      <td>-1</td>\n",
       "      <td>2</td>\n",
       "      <td>153</td>\n",
       "      <td>200</td>\n",
       "      <td>0</td>\n",
       "      <td>0</td>\n",
       "      <td>tsne</td>\n",
       "      <td>read</td>\n",
       "      <td>374237</td>\n",
       "      <td>374237</td>\n",
       "      <td>Brass_instrument</td>\n",
       "      <td>[/m/01kcd]</td>\n",
       "      <td>/m/01kcd</td>\n",
       "    </tr>\n",
       "    <tr>\n",
       "      <th>1</th>\n",
       "      <td>0.289581</td>\n",
       "      <td>0.439002</td>\n",
       "      <td>0.087508</td>\n",
       "      <td>0.415841</td>\n",
       "      <td>0.341846</td>\n",
       "      <td>0.000726</td>\n",
       "      <td>-1</td>\n",
       "      <td>2</td>\n",
       "      <td>132</td>\n",
       "      <td>201</td>\n",
       "      <td>0</td>\n",
       "      <td>0</td>\n",
       "      <td>tsne</td>\n",
       "      <td>read</td>\n",
       "      <td>204648</td>\n",
       "      <td>204648</td>\n",
       "      <td>Marimba_and_xylophone</td>\n",
       "      <td>[/m/0dwsp]</td>\n",
       "      <td>/m/0dwsp</td>\n",
       "    </tr>\n",
       "    <tr>\n",
       "      <th>2</th>\n",
       "      <td>0.073548</td>\n",
       "      <td>0.873121</td>\n",
       "      <td>0.531131</td>\n",
       "      <td>0.544816</td>\n",
       "      <td>0.782904</td>\n",
       "      <td>0.140546</td>\n",
       "      <td>-1</td>\n",
       "      <td>2</td>\n",
       "      <td>57</td>\n",
       "      <td>202</td>\n",
       "      <td>0</td>\n",
       "      <td>0</td>\n",
       "      <td>tsne</td>\n",
       "      <td>read</td>\n",
       "      <td>433669</td>\n",
       "      <td>433669</td>\n",
       "      <td>Keys_jangling</td>\n",
       "      <td>[/m/03v3yw]</td>\n",
       "      <td>/m/03v3yw</td>\n",
       "    </tr>\n",
       "    <tr>\n",
       "      <th>3</th>\n",
       "      <td>0.002685</td>\n",
       "      <td>0.801494</td>\n",
       "      <td>0.431975</td>\n",
       "      <td>0.204664</td>\n",
       "      <td>0.301127</td>\n",
       "      <td>0.028617</td>\n",
       "      <td>-1</td>\n",
       "      <td>2</td>\n",
       "      <td>55</td>\n",
       "      <td>203</td>\n",
       "      <td>0</td>\n",
       "      <td>0</td>\n",
       "      <td>tsne</td>\n",
       "      <td>read</td>\n",
       "      <td>269117</td>\n",
       "      <td>269117</td>\n",
       "      <td>Hands,Crack</td>\n",
       "      <td>[/m/0k65p, /m/07qs1cx]</td>\n",
       "      <td>/m/0k65p</td>\n",
       "    </tr>\n",
       "    <tr>\n",
       "      <th>4</th>\n",
       "      <td>0.482050</td>\n",
       "      <td>0.779908</td>\n",
       "      <td>0.246573</td>\n",
       "      <td>1.000000</td>\n",
       "      <td>0.473651</td>\n",
       "      <td>0.171023</td>\n",
       "      <td>-1</td>\n",
       "      <td>2</td>\n",
       "      <td>35</td>\n",
       "      <td>204</td>\n",
       "      <td>0</td>\n",
       "      <td>0</td>\n",
       "      <td>tsne</td>\n",
       "      <td>read</td>\n",
       "      <td>340553</td>\n",
       "      <td>340553</td>\n",
       "      <td>Tools</td>\n",
       "      <td>[/m/07k1x]</td>\n",
       "      <td>/m/07k1x</td>\n",
       "    </tr>\n",
       "  </tbody>\n",
       "</table>\n",
       "</div>"
      ],
      "text/plain": [
       "         p1        p2        p3        p4        p5        p6  score  pop  \\\n",
       "0  0.256766  0.436668  0.124341  0.427692  0.108590  0.048734     -1    2   \n",
       "1  0.289581  0.439002  0.087508  0.415841  0.341846  0.000726     -1    2   \n",
       "2  0.073548  0.873121  0.531131  0.544816  0.782904  0.140546     -1    2   \n",
       "3  0.002685  0.801494  0.431975  0.204664  0.301127  0.028617     -1    2   \n",
       "4  0.482050  0.779908  0.246573  1.000000  0.473651  0.171023     -1    2   \n",
       "\n",
       "   sample_id   id  iteration  path_id projection_method corpus_method  \\\n",
       "0        153  200          0        0              tsne          read   \n",
       "1        132  201          0        0              tsne          read   \n",
       "2         57  202          0        0              tsne          read   \n",
       "3         55  203          0        0              tsne          read   \n",
       "4         35  204          0        0              tsne          read   \n",
       "\n",
       "  filename   fname                 labels                    mids mids_first  \n",
       "0   374237  374237       Brass_instrument              [/m/01kcd]   /m/01kcd  \n",
       "1   204648  204648  Marimba_and_xylophone              [/m/0dwsp]   /m/0dwsp  \n",
       "2   433669  433669          Keys_jangling             [/m/03v3yw]  /m/03v3yw  \n",
       "3   269117  269117            Hands,Crack  [/m/0k65p, /m/07qs1cx]   /m/0k65p  \n",
       "4   340553  340553                  Tools              [/m/07k1x]   /m/07k1x  "
      ]
     },
     "execution_count": 18,
     "metadata": {},
     "output_type": "execute_result"
    }
   ],
   "source": [
    "df_ontology_lookup = df_iter_w_filename.merge(\n",
    "    df_metacoll, left_on=\"filename\", right_on=\"fname\", how=\"left\"\n",
    ")\n",
    "df_ontology_lookup[\"mids_first\"] = df_ontology_lookup.mids.str[0]\n",
    "\n",
    "df_ontology_lookup.head()"
   ]
  },
  {
   "cell_type": "code",
   "execution_count": 19,
   "metadata": {},
   "outputs": [
    {
     "data": {
      "text/plain": [
       "(150,)"
      ]
     },
     "execution_count": 19,
     "metadata": {},
     "output_type": "execute_result"
    }
   ],
   "source": [
    "# categorical diversity\n",
    "\n",
    "all_pops_cat = []\n",
    "for pop in df_ontology_lookup[\"pop\"].unique():\n",
    "    cats = df_ontology_lookup.loc[\n",
    "        df_ontology_lookup[\"pop\"] == pop, \"mids_first\"\n",
    "    ]\n",
    "    all_pops_cat.append(len(set(cats)) / len(cats))\n",
    "\n",
    "np.array(all_pops_cat).shape"
   ]
  },
  {
   "cell_type": "code",
   "execution_count": 20,
   "metadata": {},
   "outputs": [
    {
     "data": {
      "image/png": "[encoded data removed]",
      "text/plain": [
       "<Figure size 640x480 with 1 Axes>"
      ]
     },
     "metadata": {},
     "output_type": "display_data"
    }
   ],
   "source": [
    "# plot variance\n",
    "plt.plot(all_pops_cat)\n",
    "plt.xlabel(\"Population\")\n",
    "plt.ylabel(\"Variance\")\n",
    "plt.title(\"Variance of each population\")\n",
    "plt.ylim(0, 1)\n",
    "plt.show()"
   ]
  },
  {
   "cell_type": "code",
   "execution_count": 50,
   "metadata": {},
   "outputs": [
    {
     "data": {
      "text/plain": [
       "30088"
      ]
     },
     "execution_count": 50,
     "metadata": {},
     "output_type": "execute_result"
    }
   ],
   "source": [
    "# pairwise distances\n",
    "\n",
    "# load the graph to nx\n",
    "import networkx as nx\n",
    "\n",
    "with open(\n",
    "    f\"output/{record_timestamp}/{record_timestamp}_analysis_evo_graph.gpickle\",\n",
    "    \"rb\",\n",
    ") as f:\n",
    "    G = pickle.load(f)\n",
    "\n",
    "G.number_of_nodes()"
   ]
  },
  {
   "cell_type": "code",
   "execution_count": 57,
   "metadata": {},
   "outputs": [
    {
     "data": {
      "text/plain": [
       "88"
      ]
     },
     "execution_count": 57,
     "metadata": {},
     "output_type": "execute_result"
    }
   ],
   "source": [
    "# get the leaf nodes based on pop label in nodes\n",
    "leaf_nodes = [n for n in G.nodes(data=True) if n[1][\"pop\"] == 151]\n",
    "\n",
    "len(leaf_nodes)"
   ]
  },
  {
   "cell_type": "code",
   "execution_count": null,
   "metadata": {},
   "outputs": [],
   "source": [
    "######## comment out\n",
    "\n",
    "for iteration in df_iterations.iteration.unique()[:1]:\n",
    "    df_epoch = df_iterations[df_iterations.iteration == iteration]\n",
    "    df_epoch = df_epoch[[\"p1\", \"p2\", \"p3\", \"p4\", \"p5\", \"p6\"]]\n",
    "\n",
    "df_epoch"
   ]
  },
  {
   "cell_type": "code",
   "execution_count": 53,
   "metadata": {},
   "outputs": [
    {
     "name": "stdout",
     "output_type": "stream",
     "text": [
      "cluster\n",
      "3    56\n",
      "4    53\n",
      "2    43\n",
      "0    36\n",
      "1    30\n",
      "Name: count, dtype: int64\n"
     ]
    }
   ],
   "source": [
    "# Scale the features\n",
    "# scaler = StandardScaler()\n",
    "# data_scaled = scaler.fit_transform(nd_features)\n",
    "\n",
    "# Apply K-means clustering\n",
    "kmeans = KMeans(n_clusters=5, random_state=42).fit(nd_features)\n",
    "labels = kmeans.labels_\n",
    "\n",
    "# Save the DataFrame with cluster labels\n",
    "df_features[\"cluster\"] = labels\n",
    "with open(\"features_clustered_TEST.pkl\", \"wb\") as f:\n",
    "    pickle.dump(df_features, f)\n",
    "###\n",
    "\n",
    "# print(df_features.head())\n",
    "# print(df_features.describe())\n",
    "print(df_features.cluster.value_counts())"
   ]
  },
  {
   "cell_type": "code",
   "execution_count": null,
   "metadata": {},
   "outputs": [],
   "source": [
    "#### comment out\n",
    "\n",
    "# find visited indexes\n",
    "visited_indexes = []\n",
    "for individual in df_epoch.values:\n",
    "    for index, feature in enumerate(nd_features):\n",
    "        if np.array_equal(individual, feature):\n",
    "            visited_indexes.append(index)\n",
    "            break\n",
    "visited_indexes = np.array(visited_indexes)\n",
    "\n",
    "visited_indexes"
   ]
  },
  {
   "cell_type": "code",
   "execution_count": 9,
   "metadata": {},
   "outputs": [],
   "source": [
    "# VISUALIZE THE CLUSTERS (2D) with t-SNE\n",
    "tsne = TSNE(n_components=2, random_state=0)\n",
    "features_data_tsne = tsne.fit_transform(nd_features)\n",
    "df_tsne = pd.DataFrame(features_data_tsne, columns=[\"x\", \"y\"])\n",
    "\n",
    "output_dir = f\"output/{record_timestamp}/clusters\"\n",
    "os.makedirs(output_dir, exist_ok=True)\n",
    "\n",
    "figure_filenames = []\n",
    "for i, iteration in enumerate(df_iterations.iteration.unique()[:10]):\n",
    "    df_epoch = df_iterations[df_iterations.iteration == iteration]\n",
    "    df_epoch = df_epoch[[\"p1\", \"p2\", \"p3\", \"p4\", \"p5\", \"p6\"]]\n",
    "\n",
    "    # find visited indexes\n",
    "    visited_indexes = []\n",
    "    for individual in df_epoch.values:\n",
    "        for index, feature in enumerate(nd_features):\n",
    "            if np.array_equal(individual, feature):\n",
    "                visited_indexes.append(index)\n",
    "                break\n",
    "    visited_indexes = np.array(visited_indexes)\n",
    "\n",
    "    df_tsne[\"cluster\"] = labels\n",
    "\n",
    "    plt.clf()\n",
    "    plt.figure(figsize=(10, 10))\n",
    "    plt.scatter(\n",
    "        df_tsne[\"x\"], df_tsne[\"y\"], s=1, c=df_tsne[\"cluster\"], cmap=\"viridis\"\n",
    "    )\n",
    "    plt.scatter(\n",
    "        df_tsne[\"x\"].iloc[visited_indexes],\n",
    "        df_tsne[\"y\"].iloc[visited_indexes],\n",
    "        c=\"red\",\n",
    "        s=3,\n",
    "        marker=\"^\",\n",
    "    )\n",
    "    # plt.show()\n",
    "\n",
    "    output_file = os.path.join(output_dir, f\"generation_{i}.png\")\n",
    "    plt.savefig(output_file)\n",
    "    figure_filenames.append(output_file)\n",
    "\n",
    "\"end\""
   ]
  },
  {
   "cell_type": "code",
   "execution_count": 8,
   "metadata": {},
   "outputs": [],
   "source": [
    "# make a gif\n",
    "\n",
    "# Load each figure and append it to the images list\n",
    "images = []\n",
    "for filename in figure_filenames:\n",
    "    image = Image.open(filename)\n",
    "    images.append(image)\n",
    "\n",
    "# Save the images as a GIF\n",
    "output_filename = os.path.join(output_dir, \"evolution_anim.gif\")\n",
    "imageio.mimsave(output_filename, images, duration=0.1)\n",
    "\n",
    "# Remove the individual figure files\n",
    "# for filename in figure_filenames:\n",
    "#     os.remove(filename)"
   ]
  },
  {
   "cell_type": "code",
   "execution_count": null,
   "metadata": {},
   "outputs": [],
   "source": []
  },
  {
   "cell_type": "code",
   "execution_count": 13,
   "metadata": {},
   "outputs": [],
   "source": [
    "# VISUALIZE THE CLUSTERS (3D) with t-SNE\n",
    "tsne = TSNE(n_components=3, random_state=0)\n",
    "features_data_tsne = tsne.fit_transform(nd_features)\n",
    "\n",
    "df_tsne = pd.DataFrame(features_data_tsne, columns=[\"x\", \"y\", \"z\"])\n",
    "df_tsne[\"cluster\"] = labels\n",
    "\n",
    "fig = plt.figure(figsize=(10, 10))\n",
    "ax = fig.add_subplot(111, projection=\"3d\")\n",
    "ax.scatter(\n",
    "    df_tsne[\"x\"],\n",
    "    df_tsne[\"y\"],\n",
    "    df_tsne[\"z\"],\n",
    "    c=df_tsne[\"cluster\"],\n",
    "    cmap=\"viridis\",\n",
    ")\n",
    "plt.show()\n",
    "plt.savefig(\"clusters_3d_TEST.png\")"
   ]
  }
 ],
 "metadata": {
  "kernelspec": {
   "display_name": "Python 3",
   "language": "python",
   "name": "python3"
  },
  "language_info": {
   "codemirror_mode": {
    "name": "ipython",
    "version": 3
   },
   "file_extension": ".py",
   "mimetype": "text/x-python",
   "name": "python",
   "nbconvert_exporter": "python",
   "pygments_lexer": "ipython3",
   "version": "3.10.11"
  }
 },
 "nbformat": 4,
 "nbformat_minor": 2
}
